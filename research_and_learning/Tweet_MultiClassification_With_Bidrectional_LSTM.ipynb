{
 "cells": [
  {
   "cell_type": "markdown",
   "id": "0e7794e8",
   "metadata": {},
   "source": [
    "#### Imports"
   ]
  },
  {
   "cell_type": "code",
   "execution_count": 1,
   "id": "114b263c",
   "metadata": {},
   "outputs": [
    {
     "name": "stderr",
     "output_type": "stream",
     "text": [
      "2022-11-17 06:37:03.426522: I tensorflow/core/platform/cpu_feature_guard.cc:193] This TensorFlow binary is optimized with oneAPI Deep Neural Network Library (oneDNN) to use the following CPU instructions in performance-critical operations:  AVX2 AVX512F AVX512_VNNI FMA\n",
      "To enable them in other operations, rebuild TensorFlow with the appropriate compiler flags.\n",
      "2022-11-17 06:37:03.577451: I tensorflow/core/util/util.cc:169] oneDNN custom operations are on. You may see slightly different numerical results due to floating-point round-off errors from different computation orders. To turn them off, set the environment variable `TF_ENABLE_ONEDNN_OPTS=0`.\n",
      "2022-11-17 06:37:03.581878: W tensorflow/stream_executor/platform/default/dso_loader.cc:64] Could not load dynamic library 'libcudart.so.11.0'; dlerror: libcudart.so.11.0: cannot open shared object file: No such file or directory\n",
      "2022-11-17 06:37:03.581890: I tensorflow/stream_executor/cuda/cudart_stub.cc:29] Ignore above cudart dlerror if you do not have a GPU set up on your machine.\n",
      "2022-11-17 06:37:03.602351: E tensorflow/stream_executor/cuda/cuda_blas.cc:2981] Unable to register cuBLAS factory: Attempting to register factory for plugin cuBLAS when one has already been registered\n",
      "2022-11-17 06:37:04.176417: W tensorflow/stream_executor/platform/default/dso_loader.cc:64] Could not load dynamic library 'libnvinfer.so.7'; dlerror: libnvinfer.so.7: cannot open shared object file: No such file or directory\n",
      "2022-11-17 06:37:04.176466: W tensorflow/stream_executor/platform/default/dso_loader.cc:64] Could not load dynamic library 'libnvinfer_plugin.so.7'; dlerror: libnvinfer_plugin.so.7: cannot open shared object file: No such file or directory\n",
      "2022-11-17 06:37:04.176471: W tensorflow/compiler/tf2tensorrt/utils/py_utils.cc:38] TF-TRT Warning: Cannot dlopen some TensorRT libraries. If you would like to use Nvidia GPU with TensorRT, please make sure the missing libraries mentioned above are installed properly.\n"
     ]
    }
   ],
   "source": [
    "import tensorflow as tf\n",
    "import pandas as pd\n",
    "import numpy as np\n",
    "import matplotlib.pyplot as plt"
   ]
  },
  {
   "cell_type": "markdown",
   "id": "b353dac5",
   "metadata": {},
   "source": [
    "#### Static Variables"
   ]
  },
  {
   "cell_type": "code",
   "execution_count": 2,
   "id": "e27d59a5",
   "metadata": {},
   "outputs": [],
   "source": [
    "VOCAB_SIZE = 10000\n",
    "\n",
    "TRAIN_SIZE = 0.2\n",
    "BUFFER_SIZE = 10000\n",
    "BATCH_SIZE = 64\n",
    "\n",
    "# in embedding layer\n",
    "OUTPUT_DIM = 64\n",
    "\n",
    "# in training\n",
    "EPOCHS = 8"
   ]
  },
  {
   "cell_type": "markdown",
   "id": "070ccc3f",
   "metadata": {},
   "source": [
    "#### Gather data"
   ]
  },
  {
   "cell_type": "code",
   "execution_count": 3,
   "id": "27b5401b",
   "metadata": {},
   "outputs": [],
   "source": [
    "neutral_csv=\"/home/madhu/Documents/practice/machine_learning/projects/twitter_classification/processedNeutral.csv\"\n",
    "negative_csv=\"/home/madhu/Documents/practice/machine_learning/projects/twitter_classification/processedNegative.csv\"\n",
    "positive_csv=\"/home/madhu/Documents/practice/machine_learning/projects/twitter_classification/processedPositive.csv\"\n",
    "\n",
    "neu_df = pd.read_csv(neutral_csv)\n",
    "neg_df = pd.read_csv(negative_csv)\n",
    "pos_df = pd.read_csv(positive_csv)"
   ]
  },
  {
   "cell_type": "code",
   "execution_count": 4,
   "id": "4e9dce51",
   "metadata": {},
   "outputs": [],
   "source": [
    "neu_df = pd.DataFrame(np.vstack(neu_df.columns), columns=['tweets'])\n",
    "neg_df = pd.DataFrame(np.vstack(neg_df.columns), columns=['tweets'])\n",
    "pos_df = pd.DataFrame(np.vstack(pos_df.columns), columns=['tweets'])"
   ]
  },
  {
   "cell_type": "code",
   "execution_count": 5,
   "id": "78b7b349",
   "metadata": {},
   "outputs": [
    {
     "data": {
      "text/html": [
       "<div>\n",
       "<style scoped>\n",
       "    .dataframe tbody tr th:only-of-type {\n",
       "        vertical-align: middle;\n",
       "    }\n",
       "\n",
       "    .dataframe tbody tr th {\n",
       "        vertical-align: top;\n",
       "    }\n",
       "\n",
       "    .dataframe thead th {\n",
       "        text-align: right;\n",
       "    }\n",
       "</style>\n",
       "<table border=\"1\" class=\"dataframe\">\n",
       "  <thead>\n",
       "    <tr style=\"text-align: right;\">\n",
       "      <th></th>\n",
       "      <th>tweets</th>\n",
       "    </tr>\n",
       "  </thead>\n",
       "  <tbody>\n",
       "    <tr>\n",
       "      <th>0</th>\n",
       "      <td>How unhappy  some dogs like it though</td>\n",
       "    </tr>\n",
       "    <tr>\n",
       "      <th>1</th>\n",
       "      <td>talking to my over driver about where I'm goin...</td>\n",
       "    </tr>\n",
       "    <tr>\n",
       "      <th>2</th>\n",
       "      <td>Does anybody know if the Rand's likely to fall...</td>\n",
       "    </tr>\n",
       "    <tr>\n",
       "      <th>3</th>\n",
       "      <td>I miss going to gigs in Liverpool unhappy</td>\n",
       "    </tr>\n",
       "    <tr>\n",
       "      <th>4</th>\n",
       "      <td>There isnt a new Riverdale tonight ? unhappy</td>\n",
       "    </tr>\n",
       "  </tbody>\n",
       "</table>\n",
       "</div>"
      ],
      "text/plain": [
       "                                              tweets\n",
       "0              How unhappy  some dogs like it though\n",
       "1  talking to my over driver about where I'm goin...\n",
       "2  Does anybody know if the Rand's likely to fall...\n",
       "3         I miss going to gigs in Liverpool unhappy \n",
       "4      There isnt a new Riverdale tonight ? unhappy "
      ]
     },
     "execution_count": 5,
     "metadata": {},
     "output_type": "execute_result"
    }
   ],
   "source": [
    "neg_df.head()"
   ]
  },
  {
   "cell_type": "code",
   "execution_count": 6,
   "id": "56f5e775",
   "metadata": {},
   "outputs": [],
   "source": [
    "neg_df['sentiment'] = 0\n",
    "neu_df['sentiment'] = 2\n",
    "pos_df[\"sentiment\"] = 1"
   ]
  },
  {
   "cell_type": "code",
   "execution_count": 7,
   "id": "9ab5c52b",
   "metadata": {},
   "outputs": [
    {
     "data": {
      "text/html": [
       "<div>\n",
       "<style scoped>\n",
       "    .dataframe tbody tr th:only-of-type {\n",
       "        vertical-align: middle;\n",
       "    }\n",
       "\n",
       "    .dataframe tbody tr th {\n",
       "        vertical-align: top;\n",
       "    }\n",
       "\n",
       "    .dataframe thead th {\n",
       "        text-align: right;\n",
       "    }\n",
       "</style>\n",
       "<table border=\"1\" class=\"dataframe\">\n",
       "  <thead>\n",
       "    <tr style=\"text-align: right;\">\n",
       "      <th></th>\n",
       "      <th>tweets</th>\n",
       "      <th>sentiment</th>\n",
       "    </tr>\n",
       "  </thead>\n",
       "  <tbody>\n",
       "    <tr>\n",
       "      <th>153</th>\n",
       "      <td>LEGO_Group: LegoThursdays JokerSquad_SWG LEGOL...</td>\n",
       "      <td>1</td>\n",
       "    </tr>\n",
       "  </tbody>\n",
       "</table>\n",
       "</div>"
      ],
      "text/plain": [
       "                                                tweets  sentiment\n",
       "153  LEGO_Group: LegoThursdays JokerSquad_SWG LEGOL...          1"
      ]
     },
     "execution_count": 7,
     "metadata": {},
     "output_type": "execute_result"
    }
   ],
   "source": [
    "pos_df[pos_df['tweets'] == \"LEGO_Group: LegoThursdays JokerSquad_SWG LEGOLANDWindsor Sounds like you had lots of fun! happy\"]"
   ]
  },
  {
   "cell_type": "code",
   "execution_count": 8,
   "id": "41e558c0",
   "metadata": {},
   "outputs": [
    {
     "name": "stderr",
     "output_type": "stream",
     "text": [
      "/tmp/ipykernel_7466/3827594804.py:1: FutureWarning: The frame.append method is deprecated and will be removed from pandas in a future version. Use pandas.concat instead.\n",
      "  dataset = pos_df.append(neu_df)\n",
      "/tmp/ipykernel_7466/3827594804.py:2: FutureWarning: The frame.append method is deprecated and will be removed from pandas in a future version. Use pandas.concat instead.\n",
      "  dataset = dataset.append(neg_df)\n"
     ]
    }
   ],
   "source": [
    "dataset = pos_df.append(neu_df)\n",
    "dataset = dataset.append(neg_df)"
   ]
  },
  {
   "cell_type": "code",
   "execution_count": 9,
   "id": "009c288c",
   "metadata": {},
   "outputs": [
    {
     "data": {
      "text/plain": [
       "Index(['tweets', 'sentiment'], dtype='object')"
      ]
     },
     "execution_count": 9,
     "metadata": {},
     "output_type": "execute_result"
    }
   ],
   "source": [
    "dataset.columns"
   ]
  },
  {
   "cell_type": "code",
   "execution_count": 10,
   "id": "5b4af50b",
   "metadata": {},
   "outputs": [
    {
     "data": {
      "text/plain": [
       "array([1, 2, 0])"
      ]
     },
     "execution_count": 10,
     "metadata": {},
     "output_type": "execute_result"
    }
   ],
   "source": [
    "dataset.sentiment.unique()"
   ]
  },
  {
   "cell_type": "code",
   "execution_count": 11,
   "id": "9a91a1a8",
   "metadata": {},
   "outputs": [
    {
     "name": "stdout",
     "output_type": "stream",
     "text": [
      "<class 'pandas.core.frame.DataFrame'>\n",
      "Int64Index: 3873 entries, 0 to 1116\n",
      "Data columns (total 2 columns):\n",
      " #   Column     Non-Null Count  Dtype \n",
      "---  ------     --------------  ----- \n",
      " 0   tweets     3873 non-null   object\n",
      " 1   sentiment  3873 non-null   int64 \n",
      "dtypes: int64(1), object(1)\n",
      "memory usage: 90.8+ KB\n"
     ]
    }
   ],
   "source": [
    "dataset.info()"
   ]
  },
  {
   "cell_type": "code",
   "execution_count": 12,
   "id": "344db49c",
   "metadata": {},
   "outputs": [
    {
     "name": "stdout",
     "output_type": "stream",
     "text": [
      "<class 'pandas.core.frame.DataFrame'>\n",
      "RangeIndex: 1570 entries, 0 to 1569\n",
      "Data columns (total 2 columns):\n",
      " #   Column     Non-Null Count  Dtype \n",
      "---  ------     --------------  ----- \n",
      " 0   tweets     1570 non-null   object\n",
      " 1   sentiment  1570 non-null   int64 \n",
      "dtypes: int64(1), object(1)\n",
      "memory usage: 24.7+ KB\n"
     ]
    }
   ],
   "source": [
    "neu_df.info()"
   ]
  },
  {
   "cell_type": "code",
   "execution_count": 13,
   "id": "23eb63b7",
   "metadata": {},
   "outputs": [
    {
     "name": "stdout",
     "output_type": "stream",
     "text": [
      "<class 'pandas.core.frame.DataFrame'>\n",
      "RangeIndex: 1117 entries, 0 to 1116\n",
      "Data columns (total 2 columns):\n",
      " #   Column     Non-Null Count  Dtype \n",
      "---  ------     --------------  ----- \n",
      " 0   tweets     1117 non-null   object\n",
      " 1   sentiment  1117 non-null   int64 \n",
      "dtypes: int64(1), object(1)\n",
      "memory usage: 17.6+ KB\n"
     ]
    }
   ],
   "source": [
    "neg_df.info()"
   ]
  },
  {
   "cell_type": "code",
   "execution_count": 14,
   "id": "d124947c",
   "metadata": {},
   "outputs": [
    {
     "name": "stdout",
     "output_type": "stream",
     "text": [
      "<class 'pandas.core.frame.DataFrame'>\n",
      "RangeIndex: 1186 entries, 0 to 1185\n",
      "Data columns (total 2 columns):\n",
      " #   Column     Non-Null Count  Dtype \n",
      "---  ------     --------------  ----- \n",
      " 0   tweets     1186 non-null   object\n",
      " 1   sentiment  1186 non-null   int64 \n",
      "dtypes: int64(1), object(1)\n",
      "memory usage: 18.7+ KB\n"
     ]
    }
   ],
   "source": [
    "pos_df.info()"
   ]
  },
  {
   "cell_type": "code",
   "execution_count": 15,
   "id": "cc9fd8ed",
   "metadata": {},
   "outputs": [
    {
     "data": {
      "text/html": [
       "<div>\n",
       "<style scoped>\n",
       "    .dataframe tbody tr th:only-of-type {\n",
       "        vertical-align: middle;\n",
       "    }\n",
       "\n",
       "    .dataframe tbody tr th {\n",
       "        vertical-align: top;\n",
       "    }\n",
       "\n",
       "    .dataframe thead th {\n",
       "        text-align: right;\n",
       "    }\n",
       "</style>\n",
       "<table border=\"1\" class=\"dataframe\">\n",
       "  <thead>\n",
       "    <tr style=\"text-align: right;\">\n",
       "      <th></th>\n",
       "      <th>tweets</th>\n",
       "      <th>sentiment</th>\n",
       "    </tr>\n",
       "  </thead>\n",
       "  <tbody>\n",
       "    <tr>\n",
       "      <th>0</th>\n",
       "      <td>An inspiration in all aspects: Fashion</td>\n",
       "      <td>1</td>\n",
       "    </tr>\n",
       "    <tr>\n",
       "      <th>1</th>\n",
       "      <td>fitness</td>\n",
       "      <td>1</td>\n",
       "    </tr>\n",
       "    <tr>\n",
       "      <th>2</th>\n",
       "      <td>beauty and personality. :)KISSES TheFashionIcon</td>\n",
       "      <td>1</td>\n",
       "    </tr>\n",
       "    <tr>\n",
       "      <th>3</th>\n",
       "      <td>Apka Apna Awam Ka Channel Frankline Tv Aam Adm...</td>\n",
       "      <td>1</td>\n",
       "    </tr>\n",
       "    <tr>\n",
       "      <th>4</th>\n",
       "      <td>Beautiful album from  the greatest unsung guit...</td>\n",
       "      <td>1</td>\n",
       "    </tr>\n",
       "  </tbody>\n",
       "</table>\n",
       "</div>"
      ],
      "text/plain": [
       "                                              tweets  sentiment\n",
       "0             An inspiration in all aspects: Fashion          1\n",
       "1                                            fitness          1\n",
       "2    beauty and personality. :)KISSES TheFashionIcon          1\n",
       "3  Apka Apna Awam Ka Channel Frankline Tv Aam Adm...          1\n",
       "4  Beautiful album from  the greatest unsung guit...          1"
      ]
     },
     "execution_count": 15,
     "metadata": {},
     "output_type": "execute_result"
    }
   ],
   "source": [
    "dataset.head()"
   ]
  },
  {
   "cell_type": "markdown",
   "id": "d278c59a",
   "metadata": {},
   "source": [
    "#### Split the data"
   ]
  },
  {
   "cell_type": "code",
   "execution_count": 16,
   "id": "96b78224",
   "metadata": {},
   "outputs": [],
   "source": [
    "indexes = np.random.rand(len(dataset)) < TRAIN_SIZE # random\n",
    "\n",
    "train_ds = dataset[indexes]\n",
    "test_ds = dataset[indexes]"
   ]
  },
  {
   "cell_type": "markdown",
   "id": "2009b45b",
   "metadata": {},
   "source": [
    "#### Convert to Tensors"
   ]
  },
  {
   "cell_type": "code",
   "execution_count": 17,
   "id": "15729fd7",
   "metadata": {},
   "outputs": [
    {
     "name": "stderr",
     "output_type": "stream",
     "text": [
      "2022-11-17 06:37:05.544161: I tensorflow/stream_executor/cuda/cuda_gpu_executor.cc:980] successful NUMA node read from SysFS had negative value (-1), but there must be at least one NUMA node, so returning NUMA node zero\n",
      "2022-11-17 06:37:05.544367: W tensorflow/stream_executor/platform/default/dso_loader.cc:64] Could not load dynamic library 'libcudart.so.11.0'; dlerror: libcudart.so.11.0: cannot open shared object file: No such file or directory\n",
      "2022-11-17 06:37:05.544396: W tensorflow/stream_executor/platform/default/dso_loader.cc:64] Could not load dynamic library 'libcublas.so.11'; dlerror: libcublas.so.11: cannot open shared object file: No such file or directory\n",
      "2022-11-17 06:37:05.544421: W tensorflow/stream_executor/platform/default/dso_loader.cc:64] Could not load dynamic library 'libcublasLt.so.11'; dlerror: libcublasLt.so.11: cannot open shared object file: No such file or directory\n",
      "2022-11-17 06:37:05.544443: W tensorflow/stream_executor/platform/default/dso_loader.cc:64] Could not load dynamic library 'libcufft.so.10'; dlerror: libcufft.so.10: cannot open shared object file: No such file or directory\n",
      "2022-11-17 06:37:05.544468: W tensorflow/stream_executor/platform/default/dso_loader.cc:64] Could not load dynamic library 'libcurand.so.10'; dlerror: libcurand.so.10: cannot open shared object file: No such file or directory\n",
      "2022-11-17 06:37:05.544490: W tensorflow/stream_executor/platform/default/dso_loader.cc:64] Could not load dynamic library 'libcusolver.so.11'; dlerror: libcusolver.so.11: cannot open shared object file: No such file or directory\n",
      "2022-11-17 06:37:05.544514: W tensorflow/stream_executor/platform/default/dso_loader.cc:64] Could not load dynamic library 'libcusparse.so.11'; dlerror: libcusparse.so.11: cannot open shared object file: No such file or directory\n",
      "2022-11-17 06:37:05.544537: W tensorflow/stream_executor/platform/default/dso_loader.cc:64] Could not load dynamic library 'libcudnn.so.8'; dlerror: libcudnn.so.8: cannot open shared object file: No such file or directory\n",
      "2022-11-17 06:37:05.544542: W tensorflow/core/common_runtime/gpu/gpu_device.cc:1934] Cannot dlopen some GPU libraries. Please make sure the missing libraries mentioned above are installed properly if you would like to use GPU. Follow the guide at https://www.tensorflow.org/install/gpu for how to download and setup the required libraries for your platform.\n",
      "Skipping registering GPU devices...\n",
      "2022-11-17 06:37:05.545054: I tensorflow/core/platform/cpu_feature_guard.cc:193] This TensorFlow binary is optimized with oneAPI Deep Neural Network Library (oneDNN) to use the following CPU instructions in performance-critical operations:  AVX2 AVX512F AVX512_VNNI FMA\n",
      "To enable them in other operations, rebuild TensorFlow with the appropriate compiler flags.\n"
     ]
    }
   ],
   "source": [
    "train_ds = tf.data.Dataset.from_tensor_slices((train_ds['tweets'], train_ds['sentiment']))\n",
    "test_ds = tf.data.Dataset.from_tensor_slices((test_ds['tweets'], test_ds['sentiment']))"
   ]
  },
  {
   "cell_type": "code",
   "execution_count": 18,
   "id": "7c695eee",
   "metadata": {},
   "outputs": [
    {
     "name": "stdout",
     "output_type": "stream",
     "text": [
      "b'An' 1\n"
     ]
    }
   ],
   "source": [
    "for s,l in train_ds.take(1):\n",
    "    print(s.numpy()[:2], l.numpy())"
   ]
  },
  {
   "cell_type": "markdown",
   "id": "e847925a",
   "metadata": {},
   "source": [
    "#### Shuffle, Batch and Prefetch"
   ]
  },
  {
   "cell_type": "code",
   "execution_count": 19,
   "id": "70fecd5a",
   "metadata": {},
   "outputs": [],
   "source": [
    "train_ds = train_ds.shuffle(BUFFER_SIZE).batch(BATCH_SIZE).prefetch(tf.data.AUTOTUNE)\n",
    "test_ds = test_ds.batch(BATCH_SIZE).prefetch(tf.data.AUTOTUNE)"
   ]
  },
  {
   "cell_type": "markdown",
   "id": "eb28a4aa",
   "metadata": {},
   "source": [
    "#### Vectorization"
   ]
  },
  {
   "cell_type": "code",
   "execution_count": 20,
   "id": "f1a3dde3",
   "metadata": {},
   "outputs": [],
   "source": [
    "vector_layer = tf.keras.layers.TextVectorization(max_tokens=VOCAB_SIZE)"
   ]
  },
  {
   "cell_type": "code",
   "execution_count": 21,
   "id": "c56ff9c7",
   "metadata": {},
   "outputs": [],
   "source": [
    "vector_layer.adapt(train_ds.map(lambda samples, labels:samples))"
   ]
  },
  {
   "cell_type": "code",
   "execution_count": 22,
   "id": "405dcf32",
   "metadata": {},
   "outputs": [
    {
     "data": {
      "text/plain": [
       "['', '[UNK]', 'to', 'unhappy', 'i', 'the', 'happy', 'for', 'in', 'a']"
      ]
     },
     "execution_count": 22,
     "metadata": {},
     "output_type": "execute_result"
    }
   ],
   "source": [
    "vector_layer.get_vocabulary()[:10]"
   ]
  },
  {
   "cell_type": "markdown",
   "id": "494efae8",
   "metadata": {},
   "source": [
    "#### Build the model"
   ]
  },
  {
   "cell_type": "code",
   "execution_count": 23,
   "id": "0a64faf0",
   "metadata": {},
   "outputs": [],
   "source": [
    "model = tf.keras.Sequential([\n",
    "    vector_layer,\n",
    "    \n",
    "    tf.keras.layers.Embedding(input_dim=len(vector_layer.get_vocabulary()), output_dim=OUTPUT_DIM, mask_zero=True),\n",
    "    \n",
    "    tf.keras.layers.Bidirectional(\n",
    "        tf.keras.layers.LSTM(64, return_sequences=True)\n",
    "    ),\n",
    "        \n",
    "    tf.keras.layers.Bidirectional(\n",
    "        tf.keras.layers.LSTM(64)\n",
    "    ),\n",
    "    tf.keras.layers.BatchNormalization(),\n",
    "    \n",
    "    tf.keras.layers.Dense(32, activation='relu'),\n",
    "    tf.keras.layers.Dense(10, activation='relu'),\n",
    "    \n",
    "    tf.keras.layers.Dense(3, activation='softmax')\n",
    "])"
   ]
  },
  {
   "cell_type": "markdown",
   "id": "bb2dc14f",
   "metadata": {},
   "source": [
    "#### Sample Test"
   ]
  },
  {
   "cell_type": "code",
   "execution_count": 24,
   "id": "2bb4c811",
   "metadata": {},
   "outputs": [
    {
     "name": "stdout",
     "output_type": "stream",
     "text": [
      "1/1 [==============================] - 3s 3s/step\n",
      "[[0.33278385 0.33379376 0.33342245]]\n"
     ]
    }
   ],
   "source": [
    "#### Sample test\n",
    "for s,l in test_ds.take(1):\n",
    "    st = s.numpy()[2]\n",
    "    preditction = model.predict([st])\n",
    "    print(preditction)"
   ]
  },
  {
   "cell_type": "code",
   "execution_count": 25,
   "id": "e329798a",
   "metadata": {},
   "outputs": [
    {
     "name": "stdout",
     "output_type": "stream",
     "text": [
      "1/1 [==============================] - 0s 63ms/step\n",
      "[[0.33278385 0.33379376 0.33342245]\n",
      " [0.33613467 0.32930154 0.33456376]]\n"
     ]
    }
   ],
   "source": [
    "# after adding padding\n",
    "padding = \"the \" * 200\n",
    "for s,l in test_ds.take(1):\n",
    "    st = s.numpy()[2]\n",
    "    preditction = model.predict(np.array([st, padding]))\n",
    "    print(preditction)"
   ]
  },
  {
   "cell_type": "markdown",
   "id": "12e0a9aa",
   "metadata": {},
   "source": [
    "#### Compile"
   ]
  },
  {
   "cell_type": "code",
   "execution_count": 26,
   "id": "507ad6db",
   "metadata": {},
   "outputs": [],
   "source": [
    "model.compile(\n",
    "    loss = \"sparse_categorical_crossentropy\",\n",
    "    optimizer = tf.keras.optimizers.Adam(0.001),\n",
    "    metrics = ['accuracy']\n",
    ")"
   ]
  },
  {
   "cell_type": "markdown",
   "id": "077f42df",
   "metadata": {},
   "source": [
    "#### Train"
   ]
  },
  {
   "cell_type": "code",
   "execution_count": 27,
   "id": "e94d0b3f",
   "metadata": {},
   "outputs": [
    {
     "name": "stdout",
     "output_type": "stream",
     "text": [
      "Epoch 1/8\n",
      "12/12 [==============================] - 9s 224ms/step - loss: 0.9912 - accuracy: 0.5418 - val_loss: 1.0714 - val_accuracy: 0.4778\n",
      "Epoch 2/8\n",
      "12/12 [==============================] - 0s 30ms/step - loss: 0.5659 - accuracy: 0.8264 - val_loss: 0.9634 - val_accuracy: 0.8695\n",
      "Epoch 3/8\n",
      "12/12 [==============================] - 0s 30ms/step - loss: 0.2245 - accuracy: 0.9321 - val_loss: 0.8361 - val_accuracy: 0.9465\n",
      "Epoch 4/8\n",
      "12/12 [==============================] - 0s 30ms/step - loss: 0.1214 - accuracy: 0.9608 - val_loss: 0.7591 - val_accuracy: 0.9648\n",
      "Epoch 5/8\n",
      "12/12 [==============================] - 0s 30ms/step - loss: 0.0557 - accuracy: 0.9843 - val_loss: 0.6990 - val_accuracy: 0.9791\n",
      "Epoch 6/8\n",
      "12/12 [==============================] - 0s 32ms/step - loss: 0.0379 - accuracy: 0.9869 - val_loss: 0.6837 - val_accuracy: 0.9869\n",
      "Epoch 7/8\n",
      "12/12 [==============================] - 0s 31ms/step - loss: 0.0150 - accuracy: 0.9974 - val_loss: 0.6403 - val_accuracy: 0.9883\n",
      "Epoch 8/8\n",
      "12/12 [==============================] - 0s 32ms/step - loss: 0.0077 - accuracy: 1.0000 - val_loss: 0.6057 - val_accuracy: 0.9883\n"
     ]
    }
   ],
   "source": [
    "history = model.fit(\n",
    "    train_ds,\n",
    "    epochs=EPOCHS,\n",
    "    validation_data=test_ds\n",
    ")"
   ]
  },
  {
   "cell_type": "code",
   "execution_count": 28,
   "id": "6175648e",
   "metadata": {},
   "outputs": [
    {
     "data": {
      "text/plain": [
       "{'loss': [0.9912161827087402,\n",
       "  0.5659124851226807,\n",
       "  0.22452545166015625,\n",
       "  0.12138445675373077,\n",
       "  0.055684108287096024,\n",
       "  0.03791528195142746,\n",
       "  0.015008075162768364,\n",
       "  0.007691277656704187],\n",
       " 'accuracy': [0.5417754650115967,\n",
       "  0.8263707756996155,\n",
       "  0.9321148991584778,\n",
       "  0.9608355164527893,\n",
       "  0.9843342304229736,\n",
       "  0.9869451522827148,\n",
       "  0.997389018535614,\n",
       "  1.0],\n",
       " 'val_loss': [1.0713993310928345,\n",
       "  0.9634491801261902,\n",
       "  0.8360914587974548,\n",
       "  0.7591390013694763,\n",
       "  0.6990126967430115,\n",
       "  0.6836507320404053,\n",
       "  0.6403312683105469,\n",
       "  0.6057031750679016],\n",
       " 'val_accuracy': [0.47780677676200867,\n",
       "  0.8694517016410828,\n",
       "  0.9464752078056335,\n",
       "  0.9647519588470459,\n",
       "  0.9791122674942017,\n",
       "  0.9869451522827148,\n",
       "  0.9882506728172302,\n",
       "  0.9882506728172302]}"
      ]
     },
     "execution_count": 28,
     "metadata": {},
     "output_type": "execute_result"
    }
   ],
   "source": [
    "history.history"
   ]
  },
  {
   "cell_type": "markdown",
   "id": "1a6a3c18",
   "metadata": {},
   "source": [
    "#### Evaluate"
   ]
  },
  {
   "cell_type": "code",
   "execution_count": 29,
   "id": "019a2c67",
   "metadata": {},
   "outputs": [
    {
     "name": "stdout",
     "output_type": "stream",
     "text": [
      "12/12 [==============================] - 0s 8ms/step - loss: 0.6057 - accuracy: 0.9883\n"
     ]
    },
    {
     "data": {
      "text/plain": [
       "[0.6057031750679016, 0.9882506728172302]"
      ]
     },
     "execution_count": 29,
     "metadata": {},
     "output_type": "execute_result"
    }
   ],
   "source": [
    "# test \n",
    "test_histotry = model.evaluate(test_ds)\n",
    "test_histotry"
   ]
  },
  {
   "cell_type": "code",
   "execution_count": 30,
   "id": "c7dad441",
   "metadata": {},
   "outputs": [
    {
     "name": "stdout",
     "output_type": "stream",
     "text": [
      "b'you guys are entertaining and insightful... and one of the reasons i have been really enjoying LPL a lot more this season :D'\n",
      "1\n",
      "1/1 [==============================] - 2s 2s/step\n",
      "\n",
      "Predicted output 1\n"
     ]
    }
   ],
   "source": [
    "# sample prediction\n",
    "sample = \"\"\n",
    "label = \"\"\n",
    "for s, l in test_ds.take(1):\n",
    "    sample = s.numpy()[25]\n",
    "    label = l.numpy()[25]\n",
    "print(sample)\n",
    "print(label)\n",
    "prediction = model.predict(np.array([sample]))\n",
    "print(\"\")\n",
    "print(\"Predicted output\", prediction.argmax())"
   ]
  },
  {
   "cell_type": "markdown",
   "id": "04d4e070",
   "metadata": {},
   "source": [
    "#### Ploting Accuracy and Loss"
   ]
  },
  {
   "cell_type": "code",
   "execution_count": 31,
   "id": "85229aa5",
   "metadata": {},
   "outputs": [
    {
     "data": {
      "text/plain": [
       "(0.0, 1.124584733764641)"
      ]
     },
     "execution_count": 31,
     "metadata": {},
     "output_type": "execute_result"
    },
    {
     "data": {
      "image/png": "[encoded data removed]",
      "text/plain": [
       "<Figure size 1600x800 with 2 Axes>"
      ]
     },
     "metadata": {},
     "output_type": "display_data"
    }
   ],
   "source": [
    "def plot_graphs(history, metric):\n",
    "    plt.plot(history.history[metric])\n",
    "    plt.plot(history.history['val_'+metric], '')\n",
    "    plt.xlabel(\"Epochs\")\n",
    "    plt.ylabel(metric)\n",
    "    plt.legend([metric, 'val_'+metric])\n",
    "\n",
    "\n",
    "plt.figure(figsize=(16, 8))\n",
    "plt.subplot(1, 2, 1)\n",
    "plot_graphs(history, 'accuracy')\n",
    "plt.ylim(None, 1)\n",
    "plt.subplot(1, 2, 2)\n",
    "plot_graphs(history, 'loss')\n",
    "plt.ylim(0, None)"
   ]
  }
 ],
 "metadata": {
  "kernelspec": {
   "display_name": "Python 3 (ipykernel)",
   "language": "python",
   "name": "python3"
  },
  "language_info": {
   "codemirror_mode": {
    "name": "ipython",
    "version": 3
   },
   "file_extension": ".py",
   "mimetype": "text/x-python",
   "name": "python",
   "nbconvert_exporter": "python",
   "pygments_lexer": "ipython3",
   "version": "3.10.4"
  }
 },
 "nbformat": 4,
 "nbformat_minor": 5
}
