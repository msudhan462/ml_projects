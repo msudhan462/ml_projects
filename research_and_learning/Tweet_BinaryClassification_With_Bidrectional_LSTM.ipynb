{
 "cells": [
  {
   "cell_type": "markdown",
   "id": "e39cfd4b",
   "metadata": {},
   "source": [
    "#### Imports"
   ]
  },
  {
   "cell_type": "code",
   "execution_count": 1,
   "id": "74367883",
   "metadata": {},
   "outputs": [
    {
     "name": "stderr",
     "output_type": "stream",
     "text": [
      "2022-11-15 23:29:56.840206: I tensorflow/core/platform/cpu_feature_guard.cc:193] This TensorFlow binary is optimized with oneAPI Deep Neural Network Library (oneDNN) to use the following CPU instructions in performance-critical operations:  AVX2 AVX512F AVX512_VNNI FMA\n",
      "To enable them in other operations, rebuild TensorFlow with the appropriate compiler flags.\n",
      "2022-11-15 23:29:56.953191: I tensorflow/core/util/util.cc:169] oneDNN custom operations are on. You may see slightly different numerical results due to floating-point round-off errors from different computation orders. To turn them off, set the environment variable `TF_ENABLE_ONEDNN_OPTS=0`.\n",
      "2022-11-15 23:29:56.956726: W tensorflow/stream_executor/platform/default/dso_loader.cc:64] Could not load dynamic library 'libcudart.so.11.0'; dlerror: libcudart.so.11.0: cannot open shared object file: No such file or directory\n",
      "2022-11-15 23:29:56.956737: I tensorflow/stream_executor/cuda/cudart_stub.cc:29] Ignore above cudart dlerror if you do not have a GPU set up on your machine.\n",
      "2022-11-15 23:29:56.975918: E tensorflow/stream_executor/cuda/cuda_blas.cc:2981] Unable to register cuBLAS factory: Attempting to register factory for plugin cuBLAS when one has already been registered\n",
      "2022-11-15 23:29:57.460452: W tensorflow/stream_executor/platform/default/dso_loader.cc:64] Could not load dynamic library 'libnvinfer.so.7'; dlerror: libnvinfer.so.7: cannot open shared object file: No such file or directory\n",
      "2022-11-15 23:29:57.460497: W tensorflow/stream_executor/platform/default/dso_loader.cc:64] Could not load dynamic library 'libnvinfer_plugin.so.7'; dlerror: libnvinfer_plugin.so.7: cannot open shared object file: No such file or directory\n",
      "2022-11-15 23:29:57.460501: W tensorflow/compiler/tf2tensorrt/utils/py_utils.cc:38] TF-TRT Warning: Cannot dlopen some TensorRT libraries. If you would like to use Nvidia GPU with TensorRT, please make sure the missing libraries mentioned above are installed properly.\n"
     ]
    }
   ],
   "source": [
    "import tensorflow as tf\n",
    "import tensorflow_datasets as tfds\n",
    "import pandas as pd\n",
    "import numpy as np\n",
    "import matplotlib.pyplot as plt"
   ]
  },
  {
   "cell_type": "markdown",
   "id": "994aa173",
   "metadata": {},
   "source": [
    "#### Static variables"
   ]
  },
  {
   "cell_type": "code",
   "execution_count": 2,
   "id": "ff3ec324",
   "metadata": {},
   "outputs": [],
   "source": [
    "BATCH_SIZE = 64\n",
    "BUFFER_SIZE = 10000\n",
    "VOCAB_SIZE = 1000\n",
    "EPOCHS = 15\n",
    "OUTPUT_DIM = 64"
   ]
  },
  {
   "cell_type": "markdown",
   "id": "d952df95",
   "metadata": {},
   "source": [
    "#### Gather the data"
   ]
  },
  {
   "cell_type": "code",
   "execution_count": 3,
   "id": "f1b5ff7d",
   "metadata": {},
   "outputs": [],
   "source": [
    "# gather the data\n",
    "neutral_csv = \"/home/madhu/Documents/practice/machine_learning/twitter_classification/processedNeutral.csv\"\n",
    "positive_csv = \"/home/madhu/Documents/practice/machine_learning/twitter_classification/processedPositive.csv\"\n",
    "negative_csv = \"/home/madhu/Documents/practice/machine_learning/twitter_classification/processedNegative.csv\""
   ]
  },
  {
   "cell_type": "code",
   "execution_count": 4,
   "id": "a9d12a4d",
   "metadata": {},
   "outputs": [],
   "source": [
    "neutral_df = pd.read_csv(neutral_csv)\n",
    "negative_df = pd.read_csv(negative_csv)\n",
    "positive_df = pd.read_csv(positive_csv)"
   ]
  },
  {
   "cell_type": "code",
   "execution_count": 5,
   "id": "dfb52ca2",
   "metadata": {},
   "outputs": [],
   "source": [
    "neutral_df = pd.DataFrame(np.vstack(neutral_df.columns), columns=['tweets'])\n",
    "negative_df = pd.DataFrame(np.vstack(negative_df.columns), columns=['tweets'])\n",
    "positive_df = pd.DataFrame(np.vstack(positive_df.columns), columns=['tweets'])"
   ]
  },
  {
   "cell_type": "code",
   "execution_count": 6,
   "id": "e05b3c09",
   "metadata": {},
   "outputs": [],
   "source": [
    "# currently lets deal with only two label data\n",
    "negative_df[\"sentiment\"] = 0\n",
    "positive_df[\"sentiment\"] = 1"
   ]
  },
  {
   "cell_type": "code",
   "execution_count": 7,
   "id": "30b220f4",
   "metadata": {},
   "outputs": [
    {
     "name": "stderr",
     "output_type": "stream",
     "text": [
      "/tmp/ipykernel_15001/3669637914.py:1: FutureWarning: The frame.append method is deprecated and will be removed from pandas in a future version. Use pandas.concat instead.\n",
      "  ds = positive_df.append(negative_df)\n"
     ]
    }
   ],
   "source": [
    "ds = positive_df.append(negative_df)"
   ]
  },
  {
   "cell_type": "code",
   "execution_count": 8,
   "id": "9b79eace",
   "metadata": {},
   "outputs": [
    {
     "data": {
      "text/html": [
       "<div>\n",
       "<style scoped>\n",
       "    .dataframe tbody tr th:only-of-type {\n",
       "        vertical-align: middle;\n",
       "    }\n",
       "\n",
       "    .dataframe tbody tr th {\n",
       "        vertical-align: top;\n",
       "    }\n",
       "\n",
       "    .dataframe thead th {\n",
       "        text-align: right;\n",
       "    }\n",
       "</style>\n",
       "<table border=\"1\" class=\"dataframe\">\n",
       "  <thead>\n",
       "    <tr style=\"text-align: right;\">\n",
       "      <th></th>\n",
       "      <th>tweets</th>\n",
       "      <th>sentiment</th>\n",
       "    </tr>\n",
       "  </thead>\n",
       "  <tbody>\n",
       "    <tr>\n",
       "      <th>0</th>\n",
       "      <td>An inspiration in all aspects: Fashion</td>\n",
       "      <td>1</td>\n",
       "    </tr>\n",
       "    <tr>\n",
       "      <th>1</th>\n",
       "      <td>fitness</td>\n",
       "      <td>1</td>\n",
       "    </tr>\n",
       "    <tr>\n",
       "      <th>2</th>\n",
       "      <td>beauty and personality. :)KISSES TheFashionIcon</td>\n",
       "      <td>1</td>\n",
       "    </tr>\n",
       "    <tr>\n",
       "      <th>3</th>\n",
       "      <td>Apka Apna Awam Ka Channel Frankline Tv Aam Adm...</td>\n",
       "      <td>1</td>\n",
       "    </tr>\n",
       "    <tr>\n",
       "      <th>4</th>\n",
       "      <td>Beautiful album from  the greatest unsung guit...</td>\n",
       "      <td>1</td>\n",
       "    </tr>\n",
       "  </tbody>\n",
       "</table>\n",
       "</div>"
      ],
      "text/plain": [
       "                                              tweets  sentiment\n",
       "0             An inspiration in all aspects: Fashion          1\n",
       "1                                            fitness          1\n",
       "2    beauty and personality. :)KISSES TheFashionIcon          1\n",
       "3  Apka Apna Awam Ka Channel Frankline Tv Aam Adm...          1\n",
       "4  Beautiful album from  the greatest unsung guit...          1"
      ]
     },
     "execution_count": 8,
     "metadata": {},
     "output_type": "execute_result"
    }
   ],
   "source": [
    "ds.head()"
   ]
  },
  {
   "cell_type": "code",
   "execution_count": 9,
   "id": "688c1dcc",
   "metadata": {},
   "outputs": [
    {
     "name": "stdout",
     "output_type": "stream",
     "text": [
      "<class 'pandas.core.frame.DataFrame'>\n",
      "Int64Index: 2303 entries, 0 to 1116\n",
      "Data columns (total 2 columns):\n",
      " #   Column     Non-Null Count  Dtype \n",
      "---  ------     --------------  ----- \n",
      " 0   tweets     2303 non-null   object\n",
      " 1   sentiment  2303 non-null   int64 \n",
      "dtypes: int64(1), object(1)\n",
      "memory usage: 54.0+ KB\n"
     ]
    }
   ],
   "source": [
    "ds.info()"
   ]
  },
  {
   "cell_type": "markdown",
   "id": "efc67c16",
   "metadata": {},
   "source": [
    "#### Split datasets"
   ]
  },
  {
   "cell_type": "code",
   "execution_count": 10,
   "id": "61a8edb6",
   "metadata": {},
   "outputs": [
    {
     "name": "stderr",
     "output_type": "stream",
     "text": [
      "2022-11-15 23:29:59.015884: I tensorflow/stream_executor/cuda/cuda_gpu_executor.cc:980] successful NUMA node read from SysFS had negative value (-1), but there must be at least one NUMA node, so returning NUMA node zero\n",
      "2022-11-15 23:29:59.016289: W tensorflow/stream_executor/platform/default/dso_loader.cc:64] Could not load dynamic library 'libcudart.so.11.0'; dlerror: libcudart.so.11.0: cannot open shared object file: No such file or directory\n",
      "2022-11-15 23:29:59.016316: W tensorflow/stream_executor/platform/default/dso_loader.cc:64] Could not load dynamic library 'libcublas.so.11'; dlerror: libcublas.so.11: cannot open shared object file: No such file or directory\n",
      "2022-11-15 23:29:59.016338: W tensorflow/stream_executor/platform/default/dso_loader.cc:64] Could not load dynamic library 'libcublasLt.so.11'; dlerror: libcublasLt.so.11: cannot open shared object file: No such file or directory\n",
      "2022-11-15 23:29:59.016358: W tensorflow/stream_executor/platform/default/dso_loader.cc:64] Could not load dynamic library 'libcufft.so.10'; dlerror: libcufft.so.10: cannot open shared object file: No such file or directory\n",
      "2022-11-15 23:29:59.016381: W tensorflow/stream_executor/platform/default/dso_loader.cc:64] Could not load dynamic library 'libcurand.so.10'; dlerror: libcurand.so.10: cannot open shared object file: No such file or directory\n",
      "2022-11-15 23:29:59.016402: W tensorflow/stream_executor/platform/default/dso_loader.cc:64] Could not load dynamic library 'libcusolver.so.11'; dlerror: libcusolver.so.11: cannot open shared object file: No such file or directory\n",
      "2022-11-15 23:29:59.016422: W tensorflow/stream_executor/platform/default/dso_loader.cc:64] Could not load dynamic library 'libcusparse.so.11'; dlerror: libcusparse.so.11: cannot open shared object file: No such file or directory\n",
      "2022-11-15 23:29:59.016443: W tensorflow/stream_executor/platform/default/dso_loader.cc:64] Could not load dynamic library 'libcudnn.so.8'; dlerror: libcudnn.so.8: cannot open shared object file: No such file or directory\n",
      "2022-11-15 23:29:59.016447: W tensorflow/core/common_runtime/gpu/gpu_device.cc:1934] Cannot dlopen some GPU libraries. Please make sure the missing libraries mentioned above are installed properly if you would like to use GPU. Follow the guide at https://www.tensorflow.org/install/gpu for how to download and setup the required libraries for your platform.\n",
      "Skipping registering GPU devices...\n",
      "2022-11-15 23:29:59.016869: I tensorflow/core/platform/cpu_feature_guard.cc:193] This TensorFlow binary is optimized with oneAPI Deep Neural Network Library (oneDNN) to use the following CPU instructions in performance-critical operations:  AVX2 AVX512F AVX512_VNNI FMA\n",
      "To enable them in other operations, rebuild TensorFlow with the appropriate compiler flags.\n"
     ]
    }
   ],
   "source": [
    "index = np.random.rand(len(ds)) < 0.8\n",
    "train = ds[index]\n",
    "test = ds[~index]\n",
    "\n",
    "train_ds = tf.data.Dataset.from_tensor_slices((train['tweets'], train['sentiment']))\n",
    "test_ds = tf.data.Dataset.from_tensor_slices((test['tweets'], test['sentiment']))"
   ]
  },
  {
   "cell_type": "markdown",
   "id": "908e1215",
   "metadata": {},
   "source": [
    "#### Separate by batch wise"
   ]
  },
  {
   "cell_type": "code",
   "execution_count": 11,
   "id": "49c72f26",
   "metadata": {},
   "outputs": [],
   "source": [
    "train_ds = train_ds.shuffle(BUFFER_SIZE).batch(BATCH_SIZE).prefetch(tf.data.AUTOTUNE)\n",
    "test_ds = test_ds.batch(BATCH_SIZE).prefetch(tf.data.AUTOTUNE)"
   ]
  },
  {
   "cell_type": "code",
   "execution_count": 12,
   "id": "7a386798",
   "metadata": {},
   "outputs": [
    {
     "name": "stdout",
     "output_type": "stream",
     "text": [
      "[b'there are some rumors going around and videos of his performances on youtube have already been deleted.. '\n",
      " b'did some warm up sketches of some of my faves'] [0 0]\n"
     ]
    }
   ],
   "source": [
    "for s,l in train_ds.take(1):\n",
    "    print(s.numpy()[:2],l.numpy()[:2])"
   ]
  },
  {
   "cell_type": "markdown",
   "id": "d2f6bc15",
   "metadata": {},
   "source": [
    "#### Text Encoder"
   ]
  },
  {
   "cell_type": "code",
   "execution_count": 13,
   "id": "79faf693",
   "metadata": {},
   "outputs": [],
   "source": [
    "encoder = tf.keras.layers.TextVectorization(max_tokens=VOCAB_SIZE)\n",
    "encoder.adapt(train_ds.map(lambda samples, labels:samples))"
   ]
  },
  {
   "cell_type": "code",
   "execution_count": 14,
   "id": "b7730546",
   "metadata": {},
   "outputs": [
    {
     "data": {
      "text/plain": [
       "['', '[UNK]', 'unhappy', 'happy', 'to', 'i', 'the', 'a', 'for', 'you']"
      ]
     },
     "execution_count": 14,
     "metadata": {},
     "output_type": "execute_result"
    }
   ],
   "source": [
    "encoder.get_vocabulary()[:10]"
   ]
  },
  {
   "cell_type": "markdown",
   "id": "1d08f2ea",
   "metadata": {},
   "source": [
    "#### Create the model"
   ]
  },
  {
   "cell_type": "code",
   "execution_count": 15,
   "id": "93b2a990",
   "metadata": {},
   "outputs": [],
   "source": [
    "model = tf.keras.Sequential(\n",
    "    [\n",
    "        encoder,\n",
    "        tf.keras.layers.Embedding(\n",
    "            input_dim = len(encoder.get_vocabulary()), output_dim=OUTPUT_DIM, mask_zero=True\n",
    "        ),\n",
    "        tf.keras.layers.Bidirectional(\n",
    "            tf.keras.layers.LSTM(64)\n",
    "        ),\n",
    "        tf.keras.layers.Dense(64, activation='relu'),\n",
    "        tf.keras.layers.Dense(1)\n",
    "    ]\n",
    ")"
   ]
  },
  {
   "cell_type": "markdown",
   "id": "91bd460a",
   "metadata": {},
   "source": [
    "#### Sample Test"
   ]
  },
  {
   "cell_type": "code",
   "execution_count": 16,
   "id": "cfe35c0e",
   "metadata": {},
   "outputs": [
    {
     "name": "stdout",
     "output_type": "stream",
     "text": [
      "b\"Ministers of PMLN are happy like those students who never studied for exams  luckily exams got delayed. They'll still ha.1\"\n",
      "1\n"
     ]
    }
   ],
   "source": [
    "# sample test \n",
    "sample = \"\"\n",
    "label = \"\"\n",
    "for s, l in test_ds.take(1):\n",
    "    sample = s.numpy()[25]\n",
    "    label = l.numpy()[25]\n",
    "print(sample)\n",
    "print(label)"
   ]
  },
  {
   "cell_type": "code",
   "execution_count": 17,
   "id": "63077f21",
   "metadata": {},
   "outputs": [
    {
     "name": "stdout",
     "output_type": "stream",
     "text": [
      "1/1 [==============================] - 1s 1s/step\n"
     ]
    }
   ],
   "source": [
    "prediction = model.predict(np.array([sample]))"
   ]
  },
  {
   "cell_type": "code",
   "execution_count": 18,
   "id": "057de96f",
   "metadata": {},
   "outputs": [
    {
     "data": {
      "text/plain": [
       "array([[0.0130673]], dtype=float32)"
      ]
     },
     "execution_count": 18,
     "metadata": {},
     "output_type": "execute_result"
    }
   ],
   "source": [
    "prediction"
   ]
  },
  {
   "cell_type": "code",
   "execution_count": 19,
   "id": "cb257c89",
   "metadata": {},
   "outputs": [
    {
     "name": "stdout",
     "output_type": "stream",
     "text": [
      "1/1 [==============================] - 0s 86ms/step\n",
      "[0.0130673]\n"
     ]
    }
   ],
   "source": [
    "padding = \"the \" * 2000\n",
    "predictions = model.predict(np.array([sample, padding]))\n",
    "print(predictions[0])"
   ]
  },
  {
   "cell_type": "markdown",
   "id": "39616068",
   "metadata": {},
   "source": [
    "#### Compile Model"
   ]
  },
  {
   "cell_type": "code",
   "execution_count": 20,
   "id": "b5dec88b",
   "metadata": {},
   "outputs": [],
   "source": [
    "model.compile(loss=tf.keras.losses.BinaryCrossentropy(from_logits=True),\n",
    "              optimizer=tf.keras.optimizers.Adam(1e-4),\n",
    "              metrics=['accuracy'])"
   ]
  },
  {
   "cell_type": "markdown",
   "id": "08abe1c5",
   "metadata": {},
   "source": [
    "#### Train the model"
   ]
  },
  {
   "cell_type": "code",
   "execution_count": 21,
   "id": "21f003f0",
   "metadata": {},
   "outputs": [
    {
     "name": "stdout",
     "output_type": "stream",
     "text": [
      "Epoch 1/15\n",
      "29/29 [==============================] - 5s 53ms/step - loss: 0.6919 - accuracy: 0.4833 - val_loss: 0.6900 - val_accuracy: 0.4916\n",
      "Epoch 2/15\n",
      "29/29 [==============================] - 0s 13ms/step - loss: 0.6871 - accuracy: 0.4833 - val_loss: 0.6835 - val_accuracy: 0.4916\n",
      "Epoch 3/15\n",
      "29/29 [==============================] - 0s 14ms/step - loss: 0.6781 - accuracy: 0.4833 - val_loss: 0.6719 - val_accuracy: 0.4916\n",
      "Epoch 4/15\n",
      "29/29 [==============================] - 0s 16ms/step - loss: 0.6615 - accuracy: 0.4833 - val_loss: 0.6504 - val_accuracy: 0.4916\n",
      "Epoch 5/15\n",
      "29/29 [==============================] - 0s 14ms/step - loss: 0.6283 - accuracy: 0.5244 - val_loss: 0.6062 - val_accuracy: 0.5861\n",
      "Epoch 6/15\n",
      "29/29 [==============================] - 0s 14ms/step - loss: 0.5601 - accuracy: 0.6984 - val_loss: 0.5188 - val_accuracy: 0.7710\n",
      "Epoch 7/15\n",
      "29/29 [==============================] - 0s 14ms/step - loss: 0.4428 - accuracy: 0.8555 - val_loss: 0.4053 - val_accuracy: 0.8592\n",
      "Epoch 8/15\n",
      "29/29 [==============================] - 0s 14ms/step - loss: 0.3205 - accuracy: 0.9031 - val_loss: 0.3441 - val_accuracy: 0.8782\n",
      "Epoch 9/15\n",
      "29/29 [==============================] - 0s 14ms/step - loss: 0.2446 - accuracy: 0.9278 - val_loss: 0.3227 - val_accuracy: 0.8845\n",
      "Epoch 10/15\n",
      "29/29 [==============================] - 0s 14ms/step - loss: 0.2036 - accuracy: 0.9365 - val_loss: 0.3084 - val_accuracy: 0.8782\n",
      "Epoch 11/15\n",
      "29/29 [==============================] - 0s 14ms/step - loss: 0.1776 - accuracy: 0.9409 - val_loss: 0.3100 - val_accuracy: 0.8803\n",
      "Epoch 12/15\n",
      "29/29 [==============================] - 0s 14ms/step - loss: 0.1574 - accuracy: 0.9469 - val_loss: 0.3375 - val_accuracy: 0.8739\n",
      "Epoch 13/15\n",
      "29/29 [==============================] - 0s 14ms/step - loss: 0.1425 - accuracy: 0.9529 - val_loss: 0.3456 - val_accuracy: 0.8739\n",
      "Epoch 14/15\n",
      "29/29 [==============================] - 0s 13ms/step - loss: 0.1302 - accuracy: 0.9540 - val_loss: 0.3535 - val_accuracy: 0.8739\n",
      "Epoch 15/15\n",
      "29/29 [==============================] - 0s 13ms/step - loss: 0.1259 - accuracy: 0.9535 - val_loss: 0.3374 - val_accuracy: 0.8845\n"
     ]
    }
   ],
   "source": [
    "history = model.fit(train_ds, epochs=EPOCHS,\n",
    "                    validation_data=test_ds)"
   ]
  },
  {
   "cell_type": "code",
   "execution_count": 22,
   "id": "1c03d964",
   "metadata": {},
   "outputs": [
    {
     "data": {
      "text/plain": [
       "{'loss': [0.691932737827301,\n",
       "  0.6870637536048889,\n",
       "  0.6781153678894043,\n",
       "  0.6614992618560791,\n",
       "  0.6283063888549805,\n",
       "  0.560124397277832,\n",
       "  0.44278988242149353,\n",
       "  0.3205260932445526,\n",
       "  0.24459145963191986,\n",
       "  0.2035743147134781,\n",
       "  0.17760545015335083,\n",
       "  0.15735790133476257,\n",
       "  0.14253740012645721,\n",
       "  0.13024628162384033,\n",
       "  0.1258625090122223],\n",
       " 'accuracy': [0.483305960893631,\n",
       "  0.483305960893631,\n",
       "  0.483305960893631,\n",
       "  0.483305960893631,\n",
       "  0.5243568420410156,\n",
       "  0.6984127163887024,\n",
       "  0.8555008172988892,\n",
       "  0.9031198620796204,\n",
       "  0.9277504086494446,\n",
       "  0.9365079402923584,\n",
       "  0.9408866763114929,\n",
       "  0.9469075202941895,\n",
       "  0.9529283046722412,\n",
       "  0.954023003578186,\n",
       "  0.9534756541252136],\n",
       " 'val_loss': [0.6900032758712769,\n",
       "  0.683498740196228,\n",
       "  0.671909511089325,\n",
       "  0.6504247188568115,\n",
       "  0.6062164902687073,\n",
       "  0.5188047289848328,\n",
       "  0.4053388237953186,\n",
       "  0.344120591878891,\n",
       "  0.3227241635322571,\n",
       "  0.3084007799625397,\n",
       "  0.31003984808921814,\n",
       "  0.3375418186187744,\n",
       "  0.34556975960731506,\n",
       "  0.35353419184684753,\n",
       "  0.3373633921146393],\n",
       " 'val_accuracy': [0.49159663915634155,\n",
       "  0.49159663915634155,\n",
       "  0.49159663915634155,\n",
       "  0.49159663915634155,\n",
       "  0.5861344337463379,\n",
       "  0.7710084319114685,\n",
       "  0.8592436909675598,\n",
       "  0.8781512379646301,\n",
       "  0.8844537734985352,\n",
       "  0.8781512379646301,\n",
       "  0.8802521228790283,\n",
       "  0.8739495873451233,\n",
       "  0.8739495873451233,\n",
       "  0.8739495873451233,\n",
       "  0.8844537734985352]}"
      ]
     },
     "execution_count": 22,
     "metadata": {},
     "output_type": "execute_result"
    }
   ],
   "source": [
    "history.history"
   ]
  },
  {
   "cell_type": "code",
   "execution_count": 23,
   "id": "971a7524",
   "metadata": {},
   "outputs": [
    {
     "name": "stdout",
     "output_type": "stream",
     "text": [
      "8/8 [==============================] - 0s 4ms/step - loss: 0.3374 - accuracy: 0.8845\n",
      "Test Loss: 0.3373633921146393\n",
      "Test Accuracy: 0.8844537734985352\n"
     ]
    }
   ],
   "source": [
    "test_loss, test_acc = model.evaluate(test_ds)\n",
    "\n",
    "print('Test Loss:', test_loss)\n",
    "print('Test Accuracy:', test_acc)"
   ]
  },
  {
   "cell_type": "code",
   "execution_count": 24,
   "id": "313d8816",
   "metadata": {},
   "outputs": [
    {
     "name": "stdout",
     "output_type": "stream",
     "text": [
      "b\"Ministers of PMLN are happy like those students who never studied for exams  luckily exams got delayed. They'll still ha.1\"\n",
      "1\n",
      "1/1 [==============================] - 1s 1s/step\n"
     ]
    },
    {
     "data": {
      "text/plain": [
       "array([[11.28436]], dtype=float32)"
      ]
     },
     "execution_count": 24,
     "metadata": {},
     "output_type": "execute_result"
    }
   ],
   "source": [
    "# sample prediction\n",
    "sample = \"\"\n",
    "label = \"\"\n",
    "for s, l in test_ds.take(1):\n",
    "    sample = s.numpy()[25]\n",
    "    label = l.numpy()[25]\n",
    "print(sample)\n",
    "print(label)\n",
    "prediction = model.predict(np.array([sample]))\n",
    "prediction"
   ]
  },
  {
   "cell_type": "code",
   "execution_count": 25,
   "id": "5c61c6ac",
   "metadata": {},
   "outputs": [
    {
     "data": {
      "text/plain": [
       "(0.0, 0.720236249268055)"
      ]
     },
     "execution_count": 25,
     "metadata": {},
     "output_type": "execute_result"
    },
    {
     "data": {
      "image/png": "[encoded data removed]",
      "text/plain": [
       "<Figure size 1600x800 with 2 Axes>"
      ]
     },
     "metadata": {},
     "output_type": "display_data"
    }
   ],
   "source": [
    "def plot_graphs(history, metric):\n",
    "    plt.plot(history.history[metric])\n",
    "    plt.plot(history.history['val_'+metric], '')\n",
    "    plt.xlabel(\"Epochs\")\n",
    "    plt.ylabel(metric)\n",
    "    plt.legend([metric, 'val_'+metric])\n",
    "\n",
    "\n",
    "plt.figure(figsize=(16, 8))\n",
    "plt.subplot(1, 2, 1)\n",
    "plot_graphs(history, 'accuracy')\n",
    "plt.ylim(None, 1)\n",
    "plt.subplot(1, 2, 2)\n",
    "plot_graphs(history, 'loss')\n",
    "plt.ylim(0, None)"
   ]
  },
  {
   "cell_type": "code",
   "execution_count": null,
   "id": "3f1dbad3",
   "metadata": {},
   "outputs": [],
   "source": []
  }
 ],
 "metadata": {
  "kernelspec": {
   "display_name": "Python 3 (ipykernel)",
   "language": "python",
   "name": "python3"
  },
  "language_info": {
   "codemirror_mode": {
    "name": "ipython",
    "version": 3
   },
   "file_extension": ".py",
   "mimetype": "text/x-python",
   "name": "python",
   "nbconvert_exporter": "python",
   "pygments_lexer": "ipython3",
   "version": "3.10.4"
  }
 },
 "nbformat": 4,
 "nbformat_minor": 5
}
