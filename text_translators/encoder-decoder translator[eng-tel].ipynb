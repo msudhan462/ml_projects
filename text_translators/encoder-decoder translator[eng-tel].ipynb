{
 "cells": [
  {
   "cell_type": "code",
   "execution_count": 1,
   "id": "b8d0a66f",
   "metadata": {},
   "outputs": [
    {
     "name": "stderr",
     "output_type": "stream",
     "text": [
      "2022-11-26 23:56:14.451730: I tensorflow/core/platform/cpu_feature_guard.cc:193] This TensorFlow binary is optimized with oneAPI Deep Neural Network Library (oneDNN) to use the following CPU instructions in performance-critical operations:  AVX2 AVX512F AVX512_VNNI FMA\n",
      "To enable them in other operations, rebuild TensorFlow with the appropriate compiler flags.\n",
      "2022-11-26 23:56:14.541903: I tensorflow/core/util/util.cc:169] oneDNN custom operations are on. You may see slightly different numerical results due to floating-point round-off errors from different computation orders. To turn them off, set the environment variable `TF_ENABLE_ONEDNN_OPTS=0`.\n",
      "2022-11-26 23:56:14.545453: W tensorflow/stream_executor/platform/default/dso_loader.cc:64] Could not load dynamic library 'libcudart.so.11.0'; dlerror: libcudart.so.11.0: cannot open shared object file: No such file or directory\n",
      "2022-11-26 23:56:14.545465: I tensorflow/stream_executor/cuda/cudart_stub.cc:29] Ignore above cudart dlerror if you do not have a GPU set up on your machine.\n",
      "2022-11-26 23:56:14.562782: E tensorflow/stream_executor/cuda/cuda_blas.cc:2981] Unable to register cuBLAS factory: Attempting to register factory for plugin cuBLAS when one has already been registered\n",
      "2022-11-26 23:56:14.985610: W tensorflow/stream_executor/platform/default/dso_loader.cc:64] Could not load dynamic library 'libnvinfer.so.7'; dlerror: libnvinfer.so.7: cannot open shared object file: No such file or directory\n",
      "2022-11-26 23:56:14.985645: W tensorflow/stream_executor/platform/default/dso_loader.cc:64] Could not load dynamic library 'libnvinfer_plugin.so.7'; dlerror: libnvinfer_plugin.so.7: cannot open shared object file: No such file or directory\n",
      "2022-11-26 23:56:14.985649: W tensorflow/compiler/tf2tensorrt/utils/py_utils.cc:38] TF-TRT Warning: Cannot dlopen some TensorRT libraries. If you would like to use Nvidia GPU with TensorRT, please make sure the missing libraries mentioned above are installed properly.\n"
     ]
    }
   ],
   "source": [
    "import pandas as pd\n",
    "import numpy as np\n",
    "import tensorflow as tf\n",
    "from tensorflow.keras.utils import plot_model"
   ]
  },
  {
   "cell_type": "code",
   "execution_count": 2,
   "id": "bdc76378",
   "metadata": {},
   "outputs": [],
   "source": [
    "df_en = pd.read_csv('/home/madhu/Documents/Datasets/v3/v2/en-te/train.en', header=None, delimiter = \"\\t\")\n",
    "df_te = pd.read_csv('/home/madhu/Documents/Datasets/v3/v2/en-te/train.te', header=None, delimiter = \"\\t\")"
   ]
  },
  {
   "cell_type": "code",
   "execution_count": 3,
   "id": "9b8b0e57",
   "metadata": {},
   "outputs": [],
   "source": [
    "df_en.columns = ['english']\n",
    "df_te.columns = ['telugu']"
   ]
  },
  {
   "cell_type": "code",
   "execution_count": 4,
   "id": "410da933",
   "metadata": {},
   "outputs": [
    {
     "name": "stdout",
     "output_type": "stream",
     "text": [
      "Education institutions are closed across the country in the wake of lockdown due to coronavirus outbreak.\n",
      "కరోనా వైరస్ లాక్ డౌన్ కారణంగా అంతటా విద్యాసంస్థలు మూసివేశారు.\n"
     ]
    }
   ],
   "source": [
    "print(df_en.iloc[11]['english'])\n",
    "print(df_te.iloc[11]['telugu'])"
   ]
  },
  {
   "cell_type": "code",
   "execution_count": 5,
   "id": "18737fdd",
   "metadata": {},
   "outputs": [
    {
     "name": "stdout",
     "output_type": "stream",
     "text": [
      "<class 'pandas.core.frame.DataFrame'>\n",
      "RangeIndex: 4946035 entries, 0 to 4946034\n",
      "Data columns (total 1 columns):\n",
      " #   Column   Dtype \n",
      "---  ------   ----- \n",
      " 0   english  object\n",
      "dtypes: object(1)\n",
      "memory usage: 37.7+ MB\n"
     ]
    }
   ],
   "source": [
    "df_en.info()"
   ]
  },
  {
   "cell_type": "code",
   "execution_count": 6,
   "id": "63e7d3cb",
   "metadata": {},
   "outputs": [],
   "source": [
    "df_en = df_en[:10000]\n",
    "df_te = df_te[:10000]\n",
    "\n",
    "\n"
   ]
  },
  {
   "cell_type": "code",
   "execution_count": 7,
   "id": "b41798b7",
   "metadata": {},
   "outputs": [],
   "source": [
    "# print(2/0)"
   ]
  },
  {
   "cell_type": "code",
   "execution_count": 8,
   "id": "a3f5803d",
   "metadata": {},
   "outputs": [
    {
     "data": {
      "text/plain": [
       "(10000, 1)"
      ]
     },
     "execution_count": 8,
     "metadata": {},
     "output_type": "execute_result"
    }
   ],
   "source": [
    "df_en.shape"
   ]
  },
  {
   "cell_type": "code",
   "execution_count": 9,
   "id": "5657f6fc",
   "metadata": {},
   "outputs": [
    {
     "name": "stderr",
     "output_type": "stream",
     "text": [
      "2022-11-26 23:56:26.611298: I tensorflow/stream_executor/cuda/cuda_gpu_executor.cc:980] successful NUMA node read from SysFS had negative value (-1), but there must be at least one NUMA node, so returning NUMA node zero\n",
      "2022-11-26 23:56:26.611752: W tensorflow/stream_executor/platform/default/dso_loader.cc:64] Could not load dynamic library 'libcudart.so.11.0'; dlerror: libcudart.so.11.0: cannot open shared object file: No such file or directory\n",
      "2022-11-26 23:56:26.611833: W tensorflow/stream_executor/platform/default/dso_loader.cc:64] Could not load dynamic library 'libcublas.so.11'; dlerror: libcublas.so.11: cannot open shared object file: No such file or directory\n",
      "2022-11-26 23:56:26.611903: W tensorflow/stream_executor/platform/default/dso_loader.cc:64] Could not load dynamic library 'libcublasLt.so.11'; dlerror: libcublasLt.so.11: cannot open shared object file: No such file or directory\n",
      "2022-11-26 23:56:26.611965: W tensorflow/stream_executor/platform/default/dso_loader.cc:64] Could not load dynamic library 'libcufft.so.10'; dlerror: libcufft.so.10: cannot open shared object file: No such file or directory\n",
      "2022-11-26 23:56:26.612029: W tensorflow/stream_executor/platform/default/dso_loader.cc:64] Could not load dynamic library 'libcurand.so.10'; dlerror: libcurand.so.10: cannot open shared object file: No such file or directory\n",
      "2022-11-26 23:56:26.612091: W tensorflow/stream_executor/platform/default/dso_loader.cc:64] Could not load dynamic library 'libcusolver.so.11'; dlerror: libcusolver.so.11: cannot open shared object file: No such file or directory\n",
      "2022-11-26 23:56:26.612152: W tensorflow/stream_executor/platform/default/dso_loader.cc:64] Could not load dynamic library 'libcusparse.so.11'; dlerror: libcusparse.so.11: cannot open shared object file: No such file or directory\n",
      "2022-11-26 23:56:26.612215: W tensorflow/stream_executor/platform/default/dso_loader.cc:64] Could not load dynamic library 'libcudnn.so.8'; dlerror: libcudnn.so.8: cannot open shared object file: No such file or directory\n",
      "2022-11-26 23:56:26.612229: W tensorflow/core/common_runtime/gpu/gpu_device.cc:1934] Cannot dlopen some GPU libraries. Please make sure the missing libraries mentioned above are installed properly if you would like to use GPU. Follow the guide at https://www.tensorflow.org/install/gpu for how to download and setup the required libraries for your platform.\n",
      "Skipping registering GPU devices...\n",
      "2022-11-26 23:56:26.612779: I tensorflow/core/platform/cpu_feature_guard.cc:193] This TensorFlow binary is optimized with oneAPI Deep Neural Network Library (oneDNN) to use the following CPU instructions in performance-critical operations:  AVX2 AVX512F AVX512_VNNI FMA\n",
      "To enable them in other operations, rebuild TensorFlow with the appropriate compiler flags.\n"
     ]
    }
   ],
   "source": [
    "ENG_MAX_VOCAB = 10000\n",
    "TEL_MAX_VOCAB = 10000\n",
    "\n",
    "eng_vector_layer = tf.keras.layers.TextVectorization(max_tokens=ENG_MAX_VOCAB, output_sequence_length=128)\n",
    "tel_vector_layer = tf.keras.layers.TextVectorization(max_tokens=TEL_MAX_VOCAB, output_sequence_length=128)"
   ]
  },
  {
   "cell_type": "code",
   "execution_count": 10,
   "id": "ffd743a8",
   "metadata": {},
   "outputs": [],
   "source": [
    "eng_vector_layer.adapt(df_en['english'])"
   ]
  },
  {
   "cell_type": "code",
   "execution_count": 11,
   "id": "371914e3",
   "metadata": {},
   "outputs": [],
   "source": [
    "tel_vector_layer.adapt(\"<sos> \"+df_te['telugu']+\" <eos>\")"
   ]
  },
  {
   "cell_type": "code",
   "execution_count": 12,
   "id": "0c6f2df3",
   "metadata": {},
   "outputs": [
    {
     "data": {
      "text/plain": [
       "10000"
      ]
     },
     "execution_count": 12,
     "metadata": {},
     "output_type": "execute_result"
    }
   ],
   "source": [
    "eng_vector_layer.vocabulary_size()"
   ]
  },
  {
   "cell_type": "code",
   "execution_count": 13,
   "id": "6fbd99b5",
   "metadata": {},
   "outputs": [
    {
     "name": "stdout",
     "output_type": "stream",
     "text": [
      "yes\n"
     ]
    }
   ],
   "source": [
    "if 'sos' in tel_vector_layer.get_vocabulary():\n",
    "    print(\"yes\")\n",
    "else:\n",
    "    print(\"no\")"
   ]
  },
  {
   "cell_type": "code",
   "execution_count": 14,
   "id": "38a7bd05",
   "metadata": {},
   "outputs": [
    {
     "data": {
      "text/plain": [
       "['',\n",
       " '[UNK]',\n",
       " 'sos',\n",
       " 'eos',\n",
       " 'ఈ',\n",
       " 'కూడా',\n",
       " 'ఆ',\n",
       " 'మరియు',\n",
       " 'ఒక',\n",
       " 'ఇది',\n",
       " 'ఉంది',\n",
       " 'రూ',\n",
       " 'ఆయన',\n",
       " 'చాలా',\n",
       " 'కానీ',\n",
       " 'అని',\n",
       " 'చేశారు',\n",
       " 'పోలీసులు',\n",
       " 'అయితే',\n",
       " 'నుంచి',\n",
       " 'లేదు',\n",
       " 'లో',\n",
       " 'సినిమా',\n",
       " 'తన',\n",
       " 'నేను']"
      ]
     },
     "execution_count": 14,
     "metadata": {},
     "output_type": "execute_result"
    }
   ],
   "source": [
    "tel_vector_layer.get_vocabulary()[:25]"
   ]
  },
  {
   "cell_type": "code",
   "execution_count": 19,
   "id": "f0d6bfba",
   "metadata": {},
   "outputs": [
    {
     "name": "stdout",
     "output_type": "stream",
     "text": [
      "KerasTensor(type_spec=TensorSpec(shape=(None, 128, 128), dtype=tf.float32, name=None), name='encoder_embedding_layer/embedding_lookup/Identity_1:0', description=\"created by layer 'encoder_embedding_layer'\")\n"
     ]
    }
   ],
   "source": [
    "EMBEDDING_DIM = 128\n",
    "\n",
    "input_layer = tf.keras.layers.Input(shape=(EMBEDDING_DIM,), name=\"encoder_input\")\n",
    "encoder_embedd_layer = tf.keras.layers.Embedding(input_dim=ENG_MAX_VOCAB, output_dim=EMBEDDING_DIM, mask_zero=True, name=\"encoder_embedding_layer\")(input_layer)\n",
    "print(encoder_embedd_layer)\n",
    "encoder_op, h_state, c_state = tf.keras.layers.LSTM(256, return_state=True, dropout=0.4,recurrent_dropout=0.4,name=\"encoder_lstm\")(encoder_embedd_layer)\n",
    "encoder_states = [h_state, c_state]"
   ]
  },
  {
   "cell_type": "code",
   "execution_count": 20,
   "id": "7254a371",
   "metadata": {},
   "outputs": [],
   "source": [
    "output_input_layer = tf.keras.layers.Input(shape=(EMBEDDING_DIM,), name=\"decoder_input\")\n",
    "decoder_embedd_layer = tf.keras.layers.Embedding(input_dim=ENG_MAX_VOCAB, output_dim=EMBEDDING_DIM, mask_zero=True, name=\"decoder_embedding_layer\")(output_input_layer)\n",
    "decoder_lstm = tf.keras.layers.LSTM(256, return_sequences=True, return_state=True, dropout=0.4,\n",
    "                     recurrent_dropout=0.4, name=\"decoder_lstm\")\n",
    "decoder_output, _, _ = decoder_lstm(decoder_embedd_layer, encoder_states)\n",
    "decoder_dense = tf.keras.layers.TimeDistributed(tf.keras.layers.Dense(len(tel_vector_layer.get_vocabulary()), activation='softmax'))\n",
    "decoder_outputs = decoder_dense(decoder_output)"
   ]
  },
  {
   "cell_type": "code",
   "execution_count": 21,
   "id": "c204d787",
   "metadata": {},
   "outputs": [],
   "source": [
    "model = tf.keras.Model([input_layer,output_input_layer], decoder_outputs)\n",
    "model.compile(\n",
    "    optimizer=tf.keras.optimizers.Adam(0.001),\n",
    "    loss=tf.keras.losses.SparseCategoricalCrossentropy(from_logits=True, reduction='none'),\n",
    "#     metrics=['accuracy']\n",
    ")"
   ]
  },
  {
   "cell_type": "code",
   "execution_count": 22,
   "id": "6bde8bd9",
   "metadata": {},
   "outputs": [
    {
     "data": {
      "image/png": "[encoded data removed]",
      "text/plain": [
       "<IPython.core.display.Image object>"
      ]
     },
     "execution_count": 22,
     "metadata": {},
     "output_type": "execute_result"
    }
   ],
   "source": [
    "plot_model(model, to_file='model_plot4a.png', show_shapes=True, show_layer_names=True)"
   ]
  },
  {
   "cell_type": "code",
   "execution_count": 32,
   "id": "e0ed6d92",
   "metadata": {},
   "outputs": [
    {
     "name": "stdout",
     "output_type": "stream",
     "text": [
      "(10000, 128)\n",
      "(10000, 128)\n"
     ]
    }
   ],
   "source": [
    "BATCH_SIZE = 128\n",
    "EPOCHS = 1\n",
    "\n",
    "tel_start = \"<sos> \" + df_te\n",
    "tel_start = tel_vector_layer(tel_start)\n",
    "tel_start_pad = tf.keras.preprocessing.sequence.pad_sequences(\n",
    "    tel_start, padding=\"post\"\n",
    ")\n",
    "print(tel_start_pad.shape)\n",
    "\n",
    "\n",
    "tel_end =  df_te + \" <eos>\"\n",
    "tel_end = tel_vector_layer(tel_end)\n",
    "\n",
    "tel_end_pad = tf.keras.preprocessing.sequence.pad_sequences(\n",
    "    tel_end, padding=\"post\"\n",
    ")\n",
    "print(tel_end_pad.shape)"
   ]
  },
  {
   "cell_type": "code",
   "execution_count": 33,
   "id": "bdbc291e",
   "metadata": {},
   "outputs": [
    {
     "data": {
      "text/plain": [
       "array([   2,  703, 4369,    1,    0,    0,    0,    0,    0,    0,    0,\n",
       "          0,    0,    0,    0,    0,    0,    0,    0,    0,    0,    0,\n",
       "          0,    0,    0,    0,    0,    0,    0,    0,    0,    0,    0,\n",
       "          0,    0,    0,    0,    0,    0,    0,    0,    0,    0,    0,\n",
       "          0,    0,    0,    0,    0,    0,    0,    0,    0,    0,    0,\n",
       "          0,    0,    0,    0,    0,    0,    0,    0,    0,    0,    0,\n",
       "          0,    0,    0,    0,    0,    0,    0,    0,    0,    0,    0,\n",
       "          0,    0,    0,    0,    0,    0,    0,    0,    0,    0,    0,\n",
       "          0,    0,    0,    0,    0,    0,    0,    0,    0,    0,    0,\n",
       "          0,    0,    0,    0,    0,    0,    0,    0,    0,    0,    0,\n",
       "          0,    0,    0,    0,    0,    0,    0,    0,    0,    0,    0,\n",
       "          0,    0,    0,    0,    0,    0,    0], dtype=int32)"
      ]
     },
     "execution_count": 33,
     "metadata": {},
     "output_type": "execute_result"
    }
   ],
   "source": [
    "tel_start_pad[80]"
   ]
  },
  {
   "cell_type": "code",
   "execution_count": 34,
   "id": "34110efe",
   "metadata": {},
   "outputs": [
    {
     "name": "stdout",
     "output_type": "stream",
     "text": [
      "(10000, 128)\n"
     ]
    }
   ],
   "source": [
    "english = eng_vector_layer(df_en)\n",
    "print(english.shape)"
   ]
  },
  {
   "cell_type": "code",
   "execution_count": 35,
   "id": "22f752ac",
   "metadata": {},
   "outputs": [
    {
     "name": "stdout",
     "output_type": "stream",
     "text": [
      "79/79 [==============================] - 209s 3s/step - loss: 0.5756\n"
     ]
    }
   ],
   "source": [
    "result = model.fit(\n",
    "    x = [english, tel_start],\n",
    "    y = tel_end,\n",
    "    batch_size=BATCH_SIZE,\n",
    "    epochs=EPOCHS,\n",
    "#     validation_split=0.2\n",
    ")"
   ]
  },
  {
   "cell_type": "code",
   "execution_count": 36,
   "id": "3eb6f310",
   "metadata": {},
   "outputs": [
    {
     "name": "stdout",
     "output_type": "stream",
     "text": [
      "Model: \"model\"\n",
      "__________________________________________________________________________________________________\n",
      " Layer (type)                   Output Shape         Param #     Connected to                     \n",
      "==================================================================================================\n",
      " encoder_input (InputLayer)     [(None, 128)]        0           []                               \n",
      "                                                                                                  \n",
      " decoder_input (InputLayer)     [(None, 128)]        0           []                               \n",
      "                                                                                                  \n",
      " encoder_embedding_layer (Embed  (None, 128, 128)    1280000     ['encoder_input[0][0]']          \n",
      " ding)                                                                                            \n",
      "                                                                                                  \n",
      " decoder_embedding_layer (Embed  (None, 128, 128)    1280000     ['decoder_input[0][0]']          \n",
      " ding)                                                                                            \n",
      "                                                                                                  \n",
      " encoder_lstm (LSTM)            [(None, 256),        394240      ['encoder_embedding_layer[0][0]']\n",
      "                                 (None, 256),                                                     \n",
      "                                 (None, 256)]                                                     \n",
      "                                                                                                  \n",
      " decoder_lstm (LSTM)            [(None, 128, 256),   394240      ['decoder_embedding_layer[0][0]',\n",
      "                                 (None, 256),                     'encoder_lstm[0][1]',           \n",
      "                                 (None, 256)]                     'encoder_lstm[0][2]']           \n",
      "                                                                                                  \n",
      " time_distributed (TimeDistribu  (None, 128, 10000)  2570000     ['decoder_lstm[0][0]']           \n",
      " ted)                                                                                             \n",
      "                                                                                                  \n",
      "==================================================================================================\n",
      "Total params: 5,918,480\n",
      "Trainable params: 5,918,480\n",
      "Non-trainable params: 0\n",
      "__________________________________________________________________________________________________\n"
     ]
    }
   ],
   "source": [
    "model.summary()"
   ]
  },
  {
   "cell_type": "code",
   "execution_count": null,
   "id": "78d953d7",
   "metadata": {},
   "outputs": [],
   "source": [
    "# https://www.baeldung.com/cs/nlp-encoder-decoder-models\n",
    "# https://pradeep-dhote9.medium.com/seq2seq-encoder-decoder-lstm-model-1a1c9a43bbac\n",
    "# https://www.kaggle.com/code/kmkarakaya/part-d-encoder-decoder-with-teacher-forcing"
   ]
  },
  {
   "cell_type": "code",
   "execution_count": null,
   "id": "d11c9a62",
   "metadata": {},
   "outputs": [],
   "source": []
  }
 ],
 "metadata": {
  "kernelspec": {
   "display_name": "Python 3 (ipykernel)",
   "language": "python",
   "name": "python3"
  },
  "language_info": {
   "codemirror_mode": {
    "name": "ipython",
    "version": 3
   },
   "file_extension": ".py",
   "mimetype": "text/x-python",
   "name": "python",
   "nbconvert_exporter": "python",
   "pygments_lexer": "ipython3",
   "version": "3.10.4"
  }
 },
 "nbformat": 4,
 "nbformat_minor": 5
}
